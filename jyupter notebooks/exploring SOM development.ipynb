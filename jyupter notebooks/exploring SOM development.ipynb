{
 "cells": [
  {
   "cell_type": "code",
   "execution_count": 11,
   "metadata": {},
   "outputs": [],
   "source": [
    "import tensorflow as tf\n",
    "import matplotlib.pyplot as plt\n",
    "import numpy as np\n",
    "from numpy.linalg import eig\n",
    "import pandas as pd\n",
    "from minisom import MiniSom  \n",
    "import math\n",
    "import ipynb\n",
    "from sklearn.metrics import classification_report\n",
    "%matplotlib inline"
   ]
  },
  {
   "cell_type": "code",
   "execution_count": 12,
   "metadata": {},
   "outputs": [],
   "source": [
    "(x_train, y_train), (x_test, y_test) = tf.keras.datasets.mnist.load_data()"
   ]
  },
  {
   "cell_type": "markdown",
   "metadata": {},
   "source": [
    "### Define functions"
   ]
  },
  {
   "cell_type": "markdown",
   "metadata": {},
   "source": [
    "This function flattens and reshapes our data so that we can feed it to our SOM for processing"
   ]
  },
  {
   "cell_type": "code",
   "execution_count": 13,
   "metadata": {},
   "outputs": [],
   "source": [
    "def flatten_and_reshape(data):\n",
    "    res = np.reshape(data, (data.shape[0], data.shape[1]*data.shape[2]))\n",
    "    return(res)"
   ]
  },
  {
   "cell_type": "markdown",
   "metadata": {},
   "source": [
    "This function extracts the egine vector values from the original data"
   ]
  },
  {
   "cell_type": "code",
   "execution_count": 14,
   "metadata": {},
   "outputs": [],
   "source": [
    "def extract_egine_vectors(data):\n",
    "    extracted_vals = []\n",
    "    for each_image in data:\n",
    "        w,v=eig(each_image)\n",
    "        extracted_vals.append(\n",
    "            v\n",
    "        )\n",
    "    extracted_vals = np.array(extracted_vals)\n",
    "    return extracted_vals"
   ]
  },
  {
   "cell_type": "markdown",
   "metadata": {},
   "source": [
    "This function evaluates our SOM against our test and train data"
   ]
  },
  {
   "cell_type": "code",
   "execution_count": 15,
   "metadata": {},
   "outputs": [],
   "source": [
    "def classify(som, x_test, x_train, y_train):\n",
    "    winmap = som.labels_map(x_train, y_train)\n",
    "    default_class = np.sum(list(winmap.values())).most_common()[0][0]\n",
    "    result = []\n",
    "    for d in x_test:\n",
    "        win_position = som.winner(d)\n",
    "        if win_position in winmap:\n",
    "            result.append(winmap[win_position].most_common()[0][0])\n",
    "        else:\n",
    "            result.append(default_class)\n",
    "    return result"
   ]
  },
  {
   "cell_type": "markdown",
   "metadata": {},
   "source": [
    "### Create our features"
   ]
  },
  {
   "cell_type": "markdown",
   "metadata": {},
   "source": [
    "First were going to look at egine values"
   ]
  },
  {
   "cell_type": "code",
   "execution_count": 8,
   "metadata": {},
   "outputs": [],
   "source": [
    "x_test_eig = extract_egine_vectors(x_test)\n",
    "x_train_eig = extract_egine_vectors(x_train)\n",
    "x_test_eig = flatten_and_reshape(x_test_eig)\n",
    "x_train_eig = flatten_and_reshape(x_train_eig)"
   ]
  },
  {
   "cell_type": "code",
   "execution_count": 81,
   "metadata": {},
   "outputs": [],
   "source": [
    "np.set_printoptions(formatter={'float': '{: 0.100f}'.format})\n",
    "#print(x_test_eig.real)"
   ]
  },
  {
   "cell_type": "code",
   "execution_count": null,
   "metadata": {},
   "outputs": [],
   "source": []
  },
  {
   "cell_type": "markdown",
   "metadata": {},
   "source": [
    "Now were going to look at basic pixle values"
   ]
  },
  {
   "cell_type": "code",
   "execution_count": 16,
   "metadata": {},
   "outputs": [],
   "source": [
    "x_test = flatten_and_reshape(x_test)\n",
    "x_train = flatten_and_reshape(x_train)"
   ]
  },
  {
   "cell_type": "markdown",
   "metadata": {},
   "source": [
    "**Now we run a SOM with each of these datasets to get an idea of how well it performs**"
   ]
  },
  {
   "cell_type": "markdown",
   "metadata": {},
   "source": [
    "Create SOM workflow, I'm just going to do a function\n",
    "\n",
    "OK so I'm thinking of using the basic rule of X to determine the dimensions of the SOM. it uses the N_featues to create it. \n",
    "\n",
    "According to the MIN SOM package \"A rule of thumb to set the size of the grid for a dimensionality reduction task is that it should contain 5*sqrt(N) neurons where N is the number of samples in the dataset to analyze\""
   ]
  },
  {
   "cell_type": "code",
   "execution_count": 23,
   "metadata": {},
   "outputs": [],
   "source": [
    "def create_train_som(x_train, n_features):\n",
    "    \n",
    "    # Create SOM dimensions\n",
    "    som_nurons = int((math.sqrt(5*math.sqrt(n_features))))\n",
    "    print(som_nurons)\n",
    "    x = som_nurons\n",
    "    y = som_nurons\n",
    "    \n",
    "    #Create and train SOM\n",
    "    som = MiniSom(x, y, n_features, sigma=0.3, learning_rate=0.5) # initialization of 6x6 SOM\n",
    "    som.random_weights_init(x_train)\n",
    "#     print(\"Training...\")\n",
    "    som.train_random(x_train,100, verbose=True) # training with 100 iterations\n",
    "#     print(\"...ready!\")\n",
    "    return som"
   ]
  },
  {
   "cell_type": "code",
   "execution_count": 114,
   "metadata": {},
   "outputs": [],
   "source": [
    "som_nurons = int((math.sqrt(5*math.sqrt(10))))"
   ]
  },
  {
   "cell_type": "code",
   "execution_count": 19,
   "metadata": {},
   "outputs": [
    {
     "name": "stdout",
     "output_type": "stream",
     "text": [
      "11\n",
      "Training...\n",
      "\r",
      " [   0 / 100 ]   0% - ? it/s\r",
      " [   0 / 100 ]   0% - ? it/s\r",
      " [   1 / 100 ]   1% - 0:00:00 left \r",
      " [   2 / 100 ]   2% - 0:00:00 left \r",
      " [   3 / 100 ]   3% - 0:00:00 left \r",
      " [   4 / 100 ]   4% - 0:00:00 left \r",
      " [   5 / 100 ]   5% - 0:00:00 left \r",
      " [   6 / 100 ]   6% - 0:00:00 left \r",
      " [   7 / 100 ]   7% - 0:00:00 left \r",
      " [   8 / 100 ]   8% - 0:00:00 left \r",
      " [   9 / 100 ]   9% - 0:00:00 left \r",
      " [  10 / 100 ]  10% - 0:00:00 left \r",
      " [  11 / 100 ]  11% - 0:00:00 left \r",
      " [  12 / 100 ]  12% - 0:00:00 left \r",
      " [  13 / 100 ]  13% - 0:00:00 left \r",
      " [  14 / 100 ]  14% - 0:00:00 left \r",
      " [  15 / 100 ]  15% - 0:00:00 left \r",
      " [  16 / 100 ]  16% - 0:00:00 left \r",
      " [  17 / 100 ]  17% - 0:00:00 left \r",
      " [  18 / 100 ]  18% - 0:00:00 left \r",
      " [  19 / 100 ]  19% - 0:00:00 left \r",
      " [  20 / 100 ]  20% - 0:00:00 left \r",
      " [  21 / 100 ]  21% - 0:00:00 left \r",
      " [  22 / 100 ]  22% - 0:00:00 left \r",
      " [  23 / 100 ]  23% - 0:00:00 left \r",
      " [  24 / 100 ]  24% - 0:00:00 left \r",
      " [  25 / 100 ]  25% - 0:00:00 left \r",
      " [  26 / 100 ]  26% - 0:00:00 left \r",
      " [  27 / 100 ]  27% - 0:00:00 left \r",
      " [  28 / 100 ]  28% - 0:00:00 left \r",
      " [  29 / 100 ]  29% - 0:00:00 left \r",
      " [  30 / 100 ]  30% - 0:00:00 left \r",
      " [  31 / 100 ]  31% - 0:00:00 left \r",
      " [  32 / 100 ]  32% - 0:00:00 left \r",
      " [  33 / 100 ]  33% - 0:00:00 left \r",
      " [  34 / 100 ]  34% - 0:00:00 left \r",
      " [  35 / 100 ]  35% - 0:00:00 left \r",
      " [  36 / 100 ]  36% - 0:00:00 left \r",
      " [  37 / 100 ]  37% - 0:00:00 left \r",
      " [  38 / 100 ]  38% - 0:00:00 left \r",
      " [  39 / 100 ]  39% - 0:00:00 left \r",
      " [  40 / 100 ]  40% - 0:00:00 left \r",
      " [  41 / 100 ]  41% - 0:00:00 left \r",
      " [  42 / 100 ]  42% - 0:00:00 left \r",
      " [  43 / 100 ]  43% - 0:00:00 left \r",
      " [  44 / 100 ]  44% - 0:00:00 left \r",
      " [  45 / 100 ]  45% - 0:00:00 left \r",
      " [  46 / 100 ]  46% - 0:00:00 left \r",
      " [  47 / 100 ]  47% - 0:00:00 left \r",
      " [  48 / 100 ]  48% - 0:00:00 left \r",
      " [  49 / 100 ]  49% - 0:00:00 left \r",
      " [  50 / 100 ]  50% - 0:00:00 left \r",
      " [  51 / 100 ]  51% - 0:00:00 left \r",
      " [  52 / 100 ]  52% - 0:00:00 left \r",
      " [  53 / 100 ]  53% - 0:00:00 left \r",
      " [  54 / 100 ]  54% - 0:00:00 left \r",
      " [  55 / 100 ]  55% - 0:00:00 left \r",
      " [  56 / 100 ]  56% - 0:00:00 left \r",
      " [  57 / 100 ]  57% - 0:00:00 left \r",
      " [  58 / 100 ]  58% - 0:00:00 left \r",
      " [  59 / 100 ]  59% - 0:00:00 left \r",
      " [  60 / 100 ]  60% - 0:00:00 left \r",
      " [  61 / 100 ]  61% - 0:00:00 left \r",
      " [  62 / 100 ]  62% - 0:00:00 left \r",
      " [  63 / 100 ]  63% - 0:00:00 left \r",
      " [  64 / 100 ]  64% - 0:00:00 left \r",
      " [  65 / 100 ]  65% - 0:00:00 left \r",
      " [  66 / 100 ]  66% - 0:00:00 left \r",
      " [  67 / 100 ]  67% - 0:00:00 left \r",
      " [  68 / 100 ]  68% - 0:00:00 left \r",
      " [  69 / 100 ]  69% - 0:00:00 left \r",
      " [  70 / 100 ]  70% - 0:00:00 left \r",
      " [  71 / 100 ]  71% - 0:00:00 left \r",
      " [  72 / 100 ]  72% - 0:00:00 left \r",
      " [  73 / 100 ]  73% - 0:00:00 left \r",
      " [  74 / 100 ]  74% - 0:00:00 left \r",
      " [  75 / 100 ]  75% - 0:00:00 left \r",
      " [  76 / 100 ]  76% - 0:00:00 left \r",
      " [  77 / 100 ]  77% - 0:00:00 left \r",
      " [  78 / 100 ]  78% - 0:00:00 left \r",
      " [  79 / 100 ]  79% - 0:00:00 left \r",
      " [  80 / 100 ]  80% - 0:00:00 left \r",
      " [  81 / 100 ]  81% - 0:00:00 left \r",
      " [  82 / 100 ]  82% - 0:00:00 left \r",
      " [  83 / 100 ]  83% - 0:00:00 left \r",
      " [  84 / 100 ]  84% - 0:00:00 left \r",
      " [  85 / 100 ]  85% - 0:00:00 left \r",
      " [  86 / 100 ]  86% - 0:00:00 left \r",
      " [  87 / 100 ]  87% - 0:00:00 left \r",
      " [  88 / 100 ]  88% - 0:00:00 left \r",
      " [  89 / 100 ]  89% - 0:00:00 left \r",
      " [  90 / 100 ]  90% - 0:00:00 left \r",
      " [  91 / 100 ]  91% - 0:00:00 left \r",
      " [  92 / 100 ]  92% - 0:00:00 left \r",
      " [  93 / 100 ]  93% - 0:00:00 left \r",
      " [  94 / 100 ]  94% - 0:00:00 left \r",
      " [  95 / 100 ]  95% - 0:00:00 left \r",
      " [  96 / 100 ]  96% - 0:00:00 left \r",
      " [  97 / 100 ]  97% - 0:00:00 left \r",
      " [  98 / 100 ]  98% - 0:00:00 left \r",
      " [  99 / 100 ]  99% - 0:00:00 left \r",
      " [ 100 / 100 ] 100% - 0:00:00 left \n",
      " quantization error: 2081.9937850957076\n",
      "...ready!\n"
     ]
    }
   ],
   "source": [
    "my_first_som = create_train_som(x_train[0:1000], n_features = 784)"
   ]
  },
  {
   "cell_type": "code",
   "execution_count": 22,
   "metadata": {},
   "outputs": [
    {
     "data": {
      "text/plain": [
       "defaultdict(list,\n",
       "            {(4, 9): Counter({5: 473, 3: 36, 0: 6, 6: 7, 2: 6, 9: 2, 8: 3}),\n",
       "             (1, 5): Counter({0: 1214, 2: 4, 5: 2, 6: 5, 3: 4, 9: 1}),\n",
       "             (4,\n",
       "              2): Counter({4: 710,\n",
       "                      9: 451,\n",
       "                      7: 153,\n",
       "                      5: 35,\n",
       "                      8: 7,\n",
       "                      3: 7,\n",
       "                      2: 15,\n",
       "                      6: 20,\n",
       "                      0: 1}),\n",
       "             (5,\n",
       "              0): Counter({1: 591,\n",
       "                      7: 6,\n",
       "                      3: 1,\n",
       "                      4: 7,\n",
       "                      8: 13,\n",
       "                      9: 2,\n",
       "                      2: 2,\n",
       "                      6: 7,\n",
       "                      5: 3}),\n",
       "             (10,\n",
       "              2): Counter({9: 1258,\n",
       "                      4: 269,\n",
       "                      3: 15,\n",
       "                      7: 163,\n",
       "                      5: 104,\n",
       "                      8: 31,\n",
       "                      1: 1}),\n",
       "             (8,\n",
       "              7): Counter({2: 1332,\n",
       "                      4: 874,\n",
       "                      7: 2538,\n",
       "                      8: 701,\n",
       "                      5: 576,\n",
       "                      9: 1535,\n",
       "                      3: 360,\n",
       "                      1: 13,\n",
       "                      6: 312,\n",
       "                      0: 225}),\n",
       "             (5,\n",
       "              5): Counter({1: 1401,\n",
       "                      5: 56,\n",
       "                      7: 35,\n",
       "                      8: 151,\n",
       "                      2: 108,\n",
       "                      6: 26,\n",
       "                      4: 30,\n",
       "                      3: 57,\n",
       "                      9: 32}),\n",
       "             (8, 1): Counter({3: 323, 2: 13, 8: 15, 9: 1, 5: 1}),\n",
       "             (1, 1): Counter({4: 651, 2: 6, 7: 3, 5: 7, 8: 7, 9: 64}),\n",
       "             (4, 7): Counter({3: 1427, 2: 132, 5: 100, 8: 173, 9: 17}),\n",
       "             (6,\n",
       "              2): Counter({5: 1041,\n",
       "                      0: 82,\n",
       "                      8: 83,\n",
       "                      4: 10,\n",
       "                      7: 6,\n",
       "                      2: 70,\n",
       "                      6: 74,\n",
       "                      3: 38,\n",
       "                      1: 26,\n",
       "                      9: 2}),\n",
       "             (7, 7): Counter({3: 727, 5: 46, 9: 6, 8: 30, 0: 1}),\n",
       "             (4,\n",
       "              1): Counter({6: 1359,\n",
       "                      5: 79,\n",
       "                      0: 63,\n",
       "                      4: 21,\n",
       "                      2: 90,\n",
       "                      3: 30,\n",
       "                      8: 39,\n",
       "                      7: 1}),\n",
       "             (8,\n",
       "              3): Counter({7: 701,\n",
       "                      9: 210,\n",
       "                      4: 25,\n",
       "                      3: 3,\n",
       "                      5: 17,\n",
       "                      8: 5,\n",
       "                      1: 1,\n",
       "                      0: 2,\n",
       "                      2: 3}),\n",
       "             (9,\n",
       "              5): Counter({8: 774,\n",
       "                      3: 32,\n",
       "                      0: 7,\n",
       "                      2: 64,\n",
       "                      5: 22,\n",
       "                      1: 3,\n",
       "                      7: 3,\n",
       "                      9: 1,\n",
       "                      6: 1}),\n",
       "             (1,\n",
       "              0): Counter({4: 1031,\n",
       "                      9: 265,\n",
       "                      7: 47,\n",
       "                      5: 29,\n",
       "                      8: 18,\n",
       "                      2: 26,\n",
       "                      6: 12,\n",
       "                      3: 3}),\n",
       "             (0, 2): Counter({9: 93, 4: 53, 7: 6, 8: 17, 2: 1, 5: 7, 0: 1}),\n",
       "             (2,\n",
       "              6): Counter({1: 61,\n",
       "                      2: 353,\n",
       "                      3: 102,\n",
       "                      5: 16,\n",
       "                      0: 4,\n",
       "                      7: 4,\n",
       "                      4: 11,\n",
       "                      8: 9,\n",
       "                      6: 3,\n",
       "                      9: 3}),\n",
       "             (1, 8): Counter({2: 13, 8: 2}),\n",
       "             (8,\n",
       "              2): Counter({7: 78, 4: 15, 1: 2, 9: 15, 8: 7, 2: 5, 5: 1, 0: 2}),\n",
       "             (0,\n",
       "              5): Counter({3: 391,\n",
       "                      5: 225,\n",
       "                      8: 72,\n",
       "                      2: 21,\n",
       "                      7: 69,\n",
       "                      6: 22,\n",
       "                      9: 63,\n",
       "                      0: 5,\n",
       "                      4: 11}),\n",
       "             (4,\n",
       "              10): Counter({6: 620,\n",
       "                      0: 53,\n",
       "                      4: 7,\n",
       "                      2: 4,\n",
       "                      9: 1,\n",
       "                      1: 1,\n",
       "                      8: 1,\n",
       "                      3: 1,\n",
       "                      5: 1}),\n",
       "             (3,\n",
       "              3): Counter({0: 866,\n",
       "                      2: 26,\n",
       "                      3: 26,\n",
       "                      8: 38,\n",
       "                      6: 33,\n",
       "                      9: 6,\n",
       "                      5: 40,\n",
       "                      4: 6}),\n",
       "             (2, 7): Counter({6: 736, 2: 19, 4: 35, 9: 1, 8: 1, 0: 8, 5: 6}),\n",
       "             (6,\n",
       "              8): Counter({1: 2191,\n",
       "                      4: 28,\n",
       "                      6: 85,\n",
       "                      2: 28,\n",
       "                      3: 17,\n",
       "                      8: 53,\n",
       "                      5: 15,\n",
       "                      7: 16,\n",
       "                      9: 22}),\n",
       "             (7, 8): Counter({8: 402, 5: 43, 1: 1, 3: 3, 2: 3, 6: 5, 0: 2}),\n",
       "             (7,\n",
       "              9): Counter({9: 130,\n",
       "                      7: 270,\n",
       "                      8: 22,\n",
       "                      4: 20,\n",
       "                      3: 8,\n",
       "                      2: 20,\n",
       "                      1: 2,\n",
       "                      5: 2}),\n",
       "             (5,\n",
       "              8): Counter({3: 1042,\n",
       "                      9: 134,\n",
       "                      8: 151,\n",
       "                      7: 16,\n",
       "                      5: 317,\n",
       "                      0: 7,\n",
       "                      6: 5,\n",
       "                      2: 13,\n",
       "                      4: 10,\n",
       "                      1: 2}),\n",
       "             (2,\n",
       "              4): Counter({3: 653,\n",
       "                      0: 229,\n",
       "                      2: 515,\n",
       "                      5: 415,\n",
       "                      6: 59,\n",
       "                      8: 339,\n",
       "                      9: 10,\n",
       "                      4: 1,\n",
       "                      1: 2,\n",
       "                      7: 1}),\n",
       "             (3, 4): Counter({0: 90, 5: 8, 8: 7, 3: 2, 2: 1, 9: 2}),\n",
       "             (3,\n",
       "              6): Counter({4: 196,\n",
       "                      9: 12,\n",
       "                      2: 12,\n",
       "                      7: 12,\n",
       "                      8: 10,\n",
       "                      5: 5,\n",
       "                      1: 2,\n",
       "                      3: 1,\n",
       "                      6: 1}),\n",
       "             (0, 7): Counter({9: 23, 4: 107, 7: 23, 8: 4}),\n",
       "             (10, 8): Counter({8: 886, 5: 43, 2: 25, 3: 19, 4: 4, 9: 6}),\n",
       "             (6,\n",
       "              9): Counter({0: 585,\n",
       "                      6: 1,\n",
       "                      5: 16,\n",
       "                      8: 17,\n",
       "                      2: 1,\n",
       "                      9: 5,\n",
       "                      4: 1,\n",
       "                      7: 3,\n",
       "                      3: 1}),\n",
       "             (1,\n",
       "              2): Counter({4: 68,\n",
       "                      9: 52,\n",
       "                      8: 5,\n",
       "                      7: 16,\n",
       "                      0: 22,\n",
       "                      6: 16,\n",
       "                      5: 5,\n",
       "                      2: 2}),\n",
       "             (5,\n",
       "              7): Counter({4: 168,\n",
       "                      0: 11,\n",
       "                      9: 11,\n",
       "                      8: 4,\n",
       "                      6: 10,\n",
       "                      2: 8,\n",
       "                      3: 1,\n",
       "                      5: 1,\n",
       "                      7: 2}),\n",
       "             (0,\n",
       "              10): Counter({1: 256,\n",
       "                      7: 57,\n",
       "                      2: 13,\n",
       "                      9: 4,\n",
       "                      4: 6,\n",
       "                      8: 29,\n",
       "                      5: 10,\n",
       "                      3: 1}),\n",
       "             (8,\n",
       "              5): Counter({1: 1498,\n",
       "                      6: 89,\n",
       "                      8: 78,\n",
       "                      2: 106,\n",
       "                      4: 5,\n",
       "                      3: 12,\n",
       "                      9: 9,\n",
       "                      7: 13,\n",
       "                      5: 8,\n",
       "                      0: 2}),\n",
       "             (1, 10): Counter({9: 1, 8: 27, 0: 71, 5: 26, 6: 32, 3: 6, 2: 1}),\n",
       "             (5,\n",
       "              6): Counter({2: 218, 0: 380, 9: 10, 8: 10, 6: 83, 4: 3, 5: 1}),\n",
       "             (0, 4): Counter({8: 89, 3: 4}),\n",
       "             (4, 4): Counter({7: 337, 5: 1, 9: 1}),\n",
       "             (7, 5): Counter({9: 590, 4: 169, 8: 73, 3: 4, 7: 11, 5: 6, 0: 1}),\n",
       "             (9, 7): Counter({0: 265, 5: 10, 3: 2, 6: 1, 7: 1}),\n",
       "             (6, 5): Counter({2: 15, 7: 139, 9: 2, 0: 2}),\n",
       "             (0, 1): Counter({0: 747, 6: 17, 9: 2, 8: 3, 5: 2}),\n",
       "             (1, 4): Counter({2: 486, 3: 6, 1: 1, 6: 1}),\n",
       "             (2, 5): Counter({7: 190, 3: 1, 9: 8, 2: 3, 5: 1, 8: 3, 4: 1}),\n",
       "             (0, 0): Counter({6: 451, 9: 3, 5: 14, 4: 7, 8: 6}),\n",
       "             (3, 8): Counter({4: 3, 9: 1}),\n",
       "             (2, 8): Counter({4: 59, 9: 4, 2: 1}),\n",
       "             (2,\n",
       "              1): Counter({1: 14, 4: 2, 2: 4, 3: 4, 8: 7, 5: 1, 7: 2, 9: 1}),\n",
       "             (4, 3): Counter({5: 252, 0: 9, 3: 54, 8: 11, 6: 1}),\n",
       "             (7, 1): Counter({4: 268, 9: 6, 7: 3, 8: 3}),\n",
       "             (2, 9): Counter({8: 198, 5: 6, 3: 8, 2: 4, 0: 1}),\n",
       "             (5, 2): Counter({6: 107, 0: 2, 4: 1}),\n",
       "             (10, 9): Counter({2: 263, 6: 1}),\n",
       "             (6, 3): Counter({4: 208, 2: 6, 8: 2, 1: 1}),\n",
       "             (6, 7): Counter({5: 313, 3: 9, 6: 6, 8: 4, 0: 3}),\n",
       "             (7, 0): Counter({6: 662, 8: 1, 2: 4, 0: 5, 4: 1, 9: 1}),\n",
       "             (5, 3): Counter({9: 36, 7: 299, 4: 21, 8: 1}),\n",
       "             (9, 9): Counter({3: 25, 5: 10, 8: 9, 9: 3, 4: 2}),\n",
       "             (9, 2): Counter({7: 279, 9: 24, 4: 8, 6: 1, 2: 1}),\n",
       "             (10, 5): Counter({2: 370, 0: 2, 8: 6, 3: 6, 7: 1}),\n",
       "             (8, 6): Counter({0: 259, 5: 11, 7: 2, 9: 6, 8: 7, 2: 1}),\n",
       "             (3, 5): Counter({3: 155, 2: 1, 8: 1}),\n",
       "             (2, 0): Counter({5: 118, 3: 17, 0: 12, 2: 1, 6: 1, 4: 1}),\n",
       "             (5, 1): Counter({2: 376, 9: 1, 3: 3, 1: 1, 6: 2, 7: 2, 8: 1}),\n",
       "             (0, 8): Counter({2: 301, 3: 1, 0: 1}),\n",
       "             (3, 10): Counter({8: 85, 3: 3}),\n",
       "             (7, 6): Counter({5: 11, 8: 51, 3: 13, 0: 1}),\n",
       "             (0, 9): Counter({3: 65, 2: 1}),\n",
       "             (2, 2): Counter({4: 59, 6: 59, 9: 11, 5: 7, 8: 4, 2: 2, 7: 3}),\n",
       "             (0, 3): Counter({0: 266, 6: 6, 2: 3}),\n",
       "             (10, 3): Counter({5: 20, 9: 231, 4: 29, 8: 10, 7: 19}),\n",
       "             (3, 1): Counter({6: 37, 4: 15, 9: 3, 2: 1}),\n",
       "             (2, 3): Counter({5: 496, 8: 23, 3: 2, 6: 2, 0: 1}),\n",
       "             (10, 7): Counter({8: 439, 5: 13, 3: 10, 2: 20}),\n",
       "             (6, 1): Counter({4: 170, 9: 21, 2: 4, 1: 2, 6: 1, 7: 3, 5: 1}),\n",
       "             (8, 4): Counter({2: 205, 7: 8, 8: 8, 3: 1}),\n",
       "             (1, 6): Counter({7: 71, 3: 7, 4: 7, 1: 5, 8: 11, 9: 18, 2: 5}),\n",
       "             (9, 0): Counter({4: 81, 6: 80, 7: 8, 9: 42, 0: 1}),\n",
       "             (10, 10): Counter({9: 175, 4: 6, 7: 3, 8: 2, 2: 1}),\n",
       "             (4, 6): Counter({2: 32, 0: 101, 8: 5, 7: 1, 3: 1}),\n",
       "             (6, 10): Counter({1: 62, 6: 52, 5: 10, 4: 1, 2: 12, 8: 10}),\n",
       "             (8, 10): Counter({8: 1}),\n",
       "             (10, 6): Counter({2: 202, 8: 4, 9: 4, 0: 1}),\n",
       "             (9, 10): Counter({0: 255, 8: 2, 2: 1}),\n",
       "             (7, 3): Counter({1: 287, 4: 4, 2: 35, 7: 7, 8: 7, 6: 4, 5: 4}),\n",
       "             (3, 7): Counter({9: 79, 4: 38, 8: 6, 2: 3, 7: 4}),\n",
       "             (3, 0): Counter({1: 305, 7: 13, 2: 48, 3: 6, 4: 3}),\n",
       "             (5, 4): Counter({8: 150, 5: 6, 3: 2, 4: 1}),\n",
       "             (9, 6): Counter({3: 33, 5: 26, 2: 1, 6: 1, 8: 2}),\n",
       "             (6, 6): Counter({6: 22, 0: 1, 8: 2, 4: 6, 2: 1}),\n",
       "             (7, 10): Counter({3: 48, 2: 5, 9: 4}),\n",
       "             (9, 8): Counter({7: 77, 2: 48, 3: 4, 9: 1, 8: 1, 1: 1}),\n",
       "             (8, 0): Counter({7: 321, 9: 30, 2: 30, 8: 9, 4: 5, 3: 1}),\n",
       "             (8, 9): Counter({3: 140, 5: 66, 8: 39, 9: 1}),\n",
       "             (0, 6): Counter({4: 110, 8: 1, 7: 2, 9: 3, 2: 1}),\n",
       "             (6, 0): Counter({2: 106, 0: 4, 3: 1, 8: 1, 9: 1}),\n",
       "             (6,\n",
       "              4): Counter({8: 136, 9: 4, 5: 11, 6: 9, 2: 1, 0: 3, 3: 2, 4: 1}),\n",
       "             (10, 1): Counter({6: 53, 4: 6, 8: 5, 2: 17, 0: 6, 9: 1}),\n",
       "             (10, 0): Counter({8: 15, 6: 8, 5: 5, 4: 2}),\n",
       "             (7, 2): Counter({7: 186, 9: 51, 3: 5, 8: 4, 1: 8, 2: 7, 4: 7}),\n",
       "             (5, 10): Counter({6: 281, 5: 4, 0: 13, 4: 4, 2: 3, 3: 1}),\n",
       "             (2, 10): Counter({4: 94, 9: 4, 8: 4, 7: 3}),\n",
       "             (9, 4): Counter({6: 120, 0: 4}),\n",
       "             (10, 4): Counter({6: 236, 2: 1, 9: 1, 5: 1}),\n",
       "             (1, 9): Counter({4: 11, 7: 14, 9: 3, 6: 1, 0: 1}),\n",
       "             (4, 8): Counter({3: 76, 2: 5, 6: 2, 5: 6, 8: 4}),\n",
       "             (7, 4): Counter({9: 1}),\n",
       "             (1, 7): Counter({6: 44, 5: 41, 8: 16, 0: 5}),\n",
       "             (9, 1): Counter({2: 3, 9: 35, 7: 11, 4: 2, 0: 1, 8: 1, 5: 1}),\n",
       "             (4, 0): Counter({8: 51, 3: 1, 2: 11}),\n",
       "             (3, 2): Counter({3: 19, 8: 7, 5: 11, 9: 1}),\n",
       "             (3, 9): Counter({5: 1}),\n",
       "             (1, 3): Counter({6: 16, 2: 22, 1: 1, 4: 1}),\n",
       "             (4, 5): Counter({5: 111, 7: 1, 0: 10, 6: 4, 2: 1}),\n",
       "             (5, 9): Counter({3: 42, 5: 1, 8: 1}),\n",
       "             (8,\n",
       "              8): Counter({9: 75, 4: 45, 5: 21, 8: 4, 6: 6, 2: 1, 7: 2, 0: 1}),\n",
       "             (9, 3): Counter({8: 64, 2: 3})})"
      ]
     },
     "execution_count": 22,
     "metadata": {},
     "output_type": "execute_result"
    }
   ],
   "source": [
    "winmap = my_first_som.labels_map(x_train, y_train)\n",
    "winmap"
   ]
  },
  {
   "cell_type": "code",
   "execution_count": null,
   "metadata": {},
   "outputs": [],
   "source": []
  },
  {
   "cell_type": "code",
   "execution_count": 12,
   "metadata": {},
   "outputs": [
    {
     "name": "stdout",
     "output_type": "stream",
     "text": [
      "Training...\n",
      " [ 100 / 100 ] 100% - 0:00:00 left \n",
      " quantization error: 4.099520833291314\n",
      "...ready!\n"
     ]
    }
   ],
   "source": [
    "my_second_som = create_train_som(x_test_eig.real)"
   ]
  },
  {
   "cell_type": "markdown",
   "metadata": {},
   "source": [
    "How will it work:\n",
    "\n",
    "1st step is to train your som on your training data. \n",
    "Each SOM should be trained on this same training data if we are to combine them\n",
    "\n",
    "the number of training examples essentially needs to be the same so when I loop and create the sampling layer we're all G\n",
    "\n",
    "so I'll pass the trained soms and their training data then loop through, grab the training example index and create a df that has the winning som INDEX at that point. \n",
    "\n",
    "\n",
    "what do we do if the training data is different? Like it has a different number of observations?\n",
    "\n",
    "\n"
   ]
  },
  {
   "cell_type": "code",
   "execution_count": 77,
   "metadata": {},
   "outputs": [],
   "source": [
    "def create_sampling_layer(trained_somz, traing_dataz):\n",
    "    # create empty output list\n",
    "    int_output = []\n",
    "    \n",
    "    for n, som in enumerate(trained_somz):\n",
    "        som_output = []\n",
    "        training_data = traing_dataz[n]\n",
    "        # find each SOM value \n",
    "        winning_pos = [som.winner(d) for d in training_data[0:10]]\n",
    "        winning_int = \n",
    "        int_output.append(winning_pos)\n",
    "        \n",
    "    # Combine the winning SOM position for the given example.\n",
    "    final_output = pd.DataFrame(int_output).transpose().to_numpy()\n",
    "    return(final_output)"
   ]
  },
  {
   "cell_type": "markdown",
   "metadata": {},
   "source": [
    "The below function takes the coordinants of the SOM and the size of the SOM to convert the coordinants to a single numerical value so that we can pass it to the next SOM."
   ]
  },
  {
   "cell_type": "code",
   "execution_count": 124,
   "metadata": {},
   "outputs": [],
   "source": [
    "def convert_coordinants(coordinants, som_y_size):\n",
    "    x = coordinants[0]\n",
    "    y = coordinants[1]\n",
    "    num = x * som_y_size + y\n",
    "    return(num)"
   ]
  },
  {
   "cell_type": "markdown",
   "metadata": {},
   "source": [
    "Ok now the code below takes the results from our create sampling layer and converts them from coordinants to integer values using the function convert_coordiantnts above."
   ]
  },
  {
   "cell_type": "code",
   "execution_count": 130,
   "metadata": {},
   "outputs": [],
   "source": [
    "array1 = []\n",
    "for obs in x :\n",
    "    array = []\n",
    "    for coordinant in obs:\n",
    "        numeric_value = convert_coordinants(coordinant, 25)\n",
    "        array.append(numeric_value)\n",
    "    array1.append(array)"
   ]
  },
  {
   "cell_type": "code",
   "execution_count": 131,
   "metadata": {},
   "outputs": [
    {
     "data": {
      "text/plain": [
       "[[618, 97],\n",
       " [140, 27],\n",
       " [555, 420],\n",
       " [150, 149],\n",
       " [249, 539],\n",
       " [345, 494],\n",
       " [605, 97],\n",
       " [618, 97],\n",
       " [350, 97],\n",
       " [271, 97]]"
      ]
     },
     "execution_count": 131,
     "metadata": {},
     "output_type": "execute_result"
    }
   ],
   "source": [
    "array1"
   ]
  },
  {
   "cell_type": "code",
   "execution_count": 78,
   "metadata": {},
   "outputs": [],
   "source": [
    "somz = [my_first_som, my_second_som]\n",
    "dataz = [x_train, x_test_eig.real]\n",
    "\n",
    "x = create_sampling_layer(somz, dataz)"
   ]
  },
  {
   "cell_type": "code",
   "execution_count": 98,
   "metadata": {},
   "outputs": [],
   "source": [
    "#my_first_som.win_map(x_train[1:1000])"
   ]
  },
  {
   "cell_type": "code",
   "execution_count": 132,
   "metadata": {},
   "outputs": [
    {
     "name": "stdout",
     "output_type": "stream",
     "text": [
      "2\n",
      "Training...\n",
      "\r",
      " [   0 / 100 ]   0% - ? it/s\r",
      " [   0 / 100 ]   0% - ? it/s\r",
      " [   1 / 100 ]   1% - 0:00:00 left \r",
      " [   2 / 100 ]   2% - 0:00:00 left \r",
      " [   3 / 100 ]   3% - 0:00:00 left \r",
      " [   4 / 100 ]   4% - 0:00:00 left \r",
      " [   5 / 100 ]   5% - 0:00:00 left \r",
      " [   6 / 100 ]   6% - 0:00:00 left \r",
      " [   7 / 100 ]   7% - 0:00:00 left \r",
      " [   8 / 100 ]   8% - 0:00:00 left \r",
      " [   9 / 100 ]   9% - 0:00:00 left \r",
      " [  10 / 100 ]  10% - 0:00:00 left \r",
      " [  11 / 100 ]  11% - 0:00:00 left \r",
      " [  12 / 100 ]  12% - 0:00:00 left \r",
      " [  13 / 100 ]  13% - 0:00:00 left \r",
      " [  14 / 100 ]  14% - 0:00:00 left \r",
      " [  15 / 100 ]  15% - 0:00:00 left \r",
      " [  16 / 100 ]  16% - 0:00:00 left \r",
      " [  17 / 100 ]  17% - 0:00:00 left \r",
      " [  18 / 100 ]  18% - 0:00:00 left \r",
      " [  19 / 100 ]  19% - 0:00:00 left \r",
      " [  20 / 100 ]  20% - 0:00:00 left \r",
      " [  21 / 100 ]  21% - 0:00:00 left \r",
      " [  22 / 100 ]  22% - 0:00:00 left \r",
      " [  23 / 100 ]  23% - 0:00:00 left \r",
      " [  24 / 100 ]  24% - 0:00:00 left \r",
      " [  25 / 100 ]  25% - 0:00:00 left \r",
      " [  26 / 100 ]  26% - 0:00:00 left \r",
      " [  27 / 100 ]  27% - 0:00:00 left \r",
      " [  28 / 100 ]  28% - 0:00:00 left \r",
      " [  29 / 100 ]  29% - 0:00:00 left \r",
      " [  30 / 100 ]  30% - 0:00:00 left \r",
      " [  31 / 100 ]  31% - 0:00:00 left \r",
      " [  32 / 100 ]  32% - 0:00:00 left \r",
      " [  33 / 100 ]  33% - 0:00:00 left \r",
      " [  34 / 100 ]  34% - 0:00:00 left \r",
      " [  35 / 100 ]  35% - 0:00:00 left \r",
      " [  36 / 100 ]  36% - 0:00:00 left \r",
      " [  37 / 100 ]  37% - 0:00:00 left \r",
      " [  38 / 100 ]  38% - 0:00:00 left \r",
      " [  39 / 100 ]  39% - 0:00:00 left \r",
      " [  40 / 100 ]  40% - 0:00:00 left \r",
      " [  41 / 100 ]  41% - 0:00:00 left \r",
      " [  42 / 100 ]  42% - 0:00:00 left \r",
      " [  43 / 100 ]  43% - 0:00:00 left \r",
      " [  44 / 100 ]  44% - 0:00:00 left \r",
      " [  45 / 100 ]  45% - 0:00:00 left \r",
      " [  46 / 100 ]  46% - 0:00:00 left \r",
      " [  47 / 100 ]  47% - 0:00:00 left \r",
      " [  48 / 100 ]  48% - 0:00:00 left \r",
      " [  49 / 100 ]  49% - 0:00:00 left \r",
      " [  50 / 100 ]  50% - 0:00:00 left \r",
      " [  51 / 100 ]  51% - 0:00:00 left \r",
      " [  52 / 100 ]  52% - 0:00:00 left \r",
      " [  53 / 100 ]  53% - 0:00:00 left \r",
      " [  54 / 100 ]  54% - 0:00:00 left \r",
      " [  55 / 100 ]  55% - 0:00:00 left \r",
      " [  56 / 100 ]  56% - 0:00:00 left \r",
      " [  57 / 100 ]  57% - 0:00:00 left \r",
      " [  58 / 100 ]  58% - 0:00:00 left \r",
      " [  59 / 100 ]  59% - 0:00:00 left \r",
      " [  60 / 100 ]  60% - 0:00:00 left \r",
      " [  61 / 100 ]  61% - 0:00:00 left \r",
      " [  62 / 100 ]  62% - 0:00:00 left \r",
      " [  63 / 100 ]  63% - 0:00:00 left \r",
      " [  64 / 100 ]  64% - 0:00:00 left \r",
      " [  65 / 100 ]  65% - 0:00:00 left \r",
      " [  66 / 100 ]  66% - 0:00:00 left \r",
      " [  67 / 100 ]  67% - 0:00:00 left \r",
      " [  68 / 100 ]  68% - 0:00:00 left \r",
      " [  69 / 100 ]  69% - 0:00:00 left \r",
      " [  70 / 100 ]  70% - 0:00:00 left \r",
      " [  71 / 100 ]  71% - 0:00:00 left \r",
      " [  72 / 100 ]  72% - 0:00:00 left \r",
      " [  73 / 100 ]  73% - 0:00:00 left \r",
      " [  74 / 100 ]  74% - 0:00:00 left \r",
      " [  75 / 100 ]  75% - 0:00:00 left \r",
      " [  76 / 100 ]  76% - 0:00:00 left \r",
      " [  77 / 100 ]  77% - 0:00:00 left \r",
      " [  78 / 100 ]  78% - 0:00:00 left \r",
      " [  79 / 100 ]  79% - 0:00:00 left \r",
      " [  80 / 100 ]  80% - 0:00:00 left \r",
      " [  81 / 100 ]  81% - 0:00:00 left \r",
      " [  82 / 100 ]  82% - 0:00:00 left \r",
      " [  83 / 100 ]  83% - 0:00:00 left \r",
      " [  84 / 100 ]  84% - 0:00:00 left \r",
      " [  85 / 100 ]  85% - 0:00:00 left \r",
      " [  86 / 100 ]  86% - 0:00:00 left \r",
      " [  87 / 100 ]  87% - 0:00:00 left \r",
      " [  88 / 100 ]  88% - 0:00:00 left \r",
      " [  89 / 100 ]  89% - 0:00:00 left \r",
      " [  90 / 100 ]  90% - 0:00:00 left \r",
      " [  91 / 100 ]  91% - 0:00:00 left \r",
      " [  92 / 100 ]  92% - 0:00:00 left \r",
      " [  93 / 100 ]  93% - 0:00:00 left \r",
      " [  94 / 100 ]  94% - 0:00:00 left \r",
      " [  95 / 100 ]  95% - 0:00:00 left \r",
      " [  96 / 100 ]  96% - 0:00:00 left \r",
      " [  97 / 100 ]  97% - 0:00:00 left \r",
      " [  98 / 100 ]  98% - 0:00:00 left \r",
      " [  99 / 100 ]  99% - 0:00:00 left \r",
      " [ 100 / 100 ] 100% - 0:00:00 left \n",
      " quantization error: 74.67250465414375\n",
      "...ready!\n"
     ]
    }
   ],
   "source": [
    "next_level_som = create_train_som(array1, n_features = 2)"
   ]
  },
  {
   "cell_type": "markdown",
   "metadata": {},
   "source": [
    "ok so now I need to figure out how I'm going to convert the coordinants into a single value so I can pass it to the SOM. sigh there is quite a bit of effort here, I mean the other thing is I'm going to have to normalise this shit when I do pass it through, but that is something i can deal with later. I think I should just know how big the SOM is, so maybe when I get deep into development I will fork the repo but for now I will just manually enter it. So it'll all be part of a big ol function that I pass."
   ]
  },
  {
   "cell_type": "markdown",
   "metadata": {},
   "source": []
  },
  {
   "cell_type": "code",
   "execution_count": 76,
   "metadata": {},
   "outputs": [
    {
     "data": {
      "text/plain": [
       "(10, 2)"
      ]
     },
     "execution_count": 76,
     "metadata": {},
     "output_type": "execute_result"
    }
   ],
   "source": []
  },
  {
   "cell_type": "code",
   "execution_count": 92,
   "metadata": {},
   "outputs": [
    {
     "data": {
      "text/plain": [
       "(1, 2)"
      ]
     },
     "execution_count": 92,
     "metadata": {},
     "output_type": "execute_result"
    }
   ],
   "source": []
  },
  {
   "cell_type": "code",
   "execution_count": 87,
   "metadata": {},
   "outputs": [
    {
     "ename": "TypeError",
     "evalue": "create_train_som() missing 1 required positional argument: 'n_features'",
     "output_type": "error",
     "traceback": [
      "\u001b[0;31m---------------------------------------------------------------------------\u001b[0m",
      "\u001b[0;31mTypeError\u001b[0m                                 Traceback (most recent call last)",
      "\u001b[0;32m<ipython-input-87-edbab42c9600>\u001b[0m in \u001b[0;36m<module>\u001b[0;34m\u001b[0m\n\u001b[0;32m----> 1\u001b[0;31m \u001b[0mmy_second_som\u001b[0m \u001b[0;34m=\u001b[0m \u001b[0mcreate_train_som\u001b[0m\u001b[0;34m(\u001b[0m\u001b[0mx_train_eig\u001b[0m\u001b[0;34m.\u001b[0m\u001b[0mreal\u001b[0m\u001b[0;34m)\u001b[0m\u001b[0;34m\u001b[0m\u001b[0;34m\u001b[0m\u001b[0m\n\u001b[0m",
      "\u001b[0;31mTypeError\u001b[0m: create_train_som() missing 1 required positional argument: 'n_features'"
     ]
    }
   ],
   "source": [
    "my_second_som = create_train_som(x_train_eig.real)"
   ]
  },
  {
   "cell_type": "code",
   "execution_count": null,
   "metadata": {},
   "outputs": [],
   "source": [
    "# winning_pos = my_first_som.winner([result for result in x_train[1:10]])\n",
    "x = [my_first_som.winner(d) for d in x_train]\n",
    "# my_first_som.winner(x_train[1])"
   ]
  },
  {
   "cell_type": "code",
   "execution_count": 133,
   "metadata": {},
   "outputs": [
    {
     "data": {
      "text/plain": [
       "<minisom.MiniSom at 0x165e66198>"
      ]
     },
     "execution_count": 133,
     "metadata": {},
     "output_type": "execute_result"
    }
   ],
   "source": [
    "next_level_som"
   ]
  },
  {
   "cell_type": "code",
   "execution_count": null,
   "metadata": {},
   "outputs": [],
   "source": [
    "len(x_train)"
   ]
  },
  {
   "cell_type": "code",
   "execution_count": null,
   "metadata": {},
   "outputs": [],
   "source": [
    "print(classification_report(y_test, classify(my_second_som,  x_test_eig.real, x_train_eig.real, y_train)))"
   ]
  },
  {
   "cell_type": "markdown",
   "metadata": {},
   "source": [
    "Finally we'll look at constructing a SOM using the output from the two above SOMs to see if it performs better"
   ]
  },
  {
   "cell_type": "code",
   "execution_count": null,
   "metadata": {},
   "outputs": [],
   "source": [
    "# We can use this to feed into the above SOM!!!\n",
    "flatten_and_reshape(np.array(my_second_som.distance_map()))"
   ]
  },
  {
   "cell_type": "code",
   "execution_count": null,
   "metadata": {},
   "outputs": [],
   "source": []
  },
  {
   "cell_type": "code",
   "execution_count": 62,
   "metadata": {},
   "outputs": [
    {
     "ename": "NameError",
     "evalue": "name 'extracted_vals' is not defined",
     "output_type": "error",
     "traceback": [
      "\u001b[0;31m---------------------------------------------------------------------------\u001b[0m",
      "\u001b[0;31mNameError\u001b[0m                                 Traceback (most recent call last)",
      "\u001b[0;32m<ipython-input-62-2a21b974e77c>\u001b[0m in \u001b[0;36m<module>\u001b[0;34m\u001b[0m\n\u001b[0;32m----> 1\u001b[0;31m \u001b[0mextracted_vals\u001b[0m\u001b[0;34m\u001b[0m\u001b[0;34m\u001b[0m\u001b[0m\n\u001b[0m",
      "\u001b[0;31mNameError\u001b[0m: name 'extracted_vals' is not defined"
     ]
    }
   ],
   "source": [
    "extracted_vals"
   ]
  },
  {
   "cell_type": "code",
   "execution_count": 40,
   "metadata": {},
   "outputs": [
    {
     "data": {
      "text/plain": [
       "(60000, 784)"
      ]
     },
     "execution_count": 40,
     "metadata": {},
     "output_type": "execute_result"
    }
   ],
   "source": [
    "x_train.shape"
   ]
  },
  {
   "cell_type": "code",
   "execution_count": 10,
   "metadata": {},
   "outputs": [
    {
     "data": {
      "text/plain": [
       "array([  0,   0,   0,   0,   0,   0,   0,   0,   0,   0,   0,   0,   0,\n",
       "         0,   0,   0,   0,   0,   0,   0,   0,   0,   0,   0,   0,   0,\n",
       "         0,   0,   0,   0,   0,   0,   0,   0,   0,   0,   0,   0,   0,\n",
       "         0,   0,   0,   0,   0,   0,   0,   0,   0,   0,   0,   0,   0,\n",
       "         0,   0,   0,   0,   0,   0,   0,   0,   0,   0,   0,   0,   0,\n",
       "         0,   0,   0,   0,   0,   0,   0,   0,   0,   0,   0,   0,   0,\n",
       "         0,   0,   0,   0,   0,   0,   0,   0,   0,   0,   0,   0,   0,\n",
       "         0,   0,   0, 116, 125, 171, 255, 255, 150,  93,   0,   0,   0,\n",
       "         0,   0,   0,   0,   0,   0,   0,   0,   0,   0,   0,   0,   0,\n",
       "         0,   0,   0,   0, 169, 253, 253, 253, 253, 253, 253, 218,  30,\n",
       "         0,   0,   0,   0,   0,   0,   0,   0,   0,   0,   0,   0,   0,\n",
       "         0,   0,   0,   0,   0, 169, 253, 253, 253, 213, 142, 176, 253,\n",
       "       253, 122,   0,   0,   0,   0,   0,   0,   0,   0,   0,   0,   0,\n",
       "         0,   0,   0,   0,   0,   0,  52, 250, 253, 210,  32,  12,   0,\n",
       "         6, 206, 253, 140,   0,   0,   0,   0,   0,   0,   0,   0,   0,\n",
       "         0,   0,   0,   0,   0,   0,   0,   0,  77, 251, 210,  25,   0,\n",
       "         0,   0, 122, 248, 253,  65,   0,   0,   0,   0,   0,   0,   0,\n",
       "         0,   0,   0,   0,   0,   0,   0,   0,   0,   0,   0,  31,  18,\n",
       "         0,   0,   0,   0, 209, 253, 253,  65,   0,   0,   0,   0,   0,\n",
       "         0,   0,   0,   0,   0,   0,   0,   0,   0,   0,   0,   0,   0,\n",
       "         0,   0,   0,   0,   0, 117, 247, 253, 198,  10,   0,   0,   0,\n",
       "         0,   0,   0,   0,   0,   0,   0,   0,   0,   0,   0,   0,   0,\n",
       "         0,   0,   0,   0,   0,   0,  76, 247, 253, 231,  63,   0,   0,\n",
       "         0,   0,   0,   0,   0,   0,   0,   0,   0,   0,   0,   0,   0,\n",
       "         0,   0,   0,   0,   0,   0,   0,   0, 128, 253, 253, 144,   0,\n",
       "         0,   0,   0,   0,   0,   0,   0,   0,   0,   0,   0,   0,   0,\n",
       "         0,   0,   0,   0,   0,   0,   0,   0,   0, 176, 246, 253, 159,\n",
       "        12,   0,   0,   0,   0,   0,   0,   0,   0,   0,   0,   0,   0,\n",
       "         0,   0,   0,   0,   0,   0,   0,   0,   0,   0,  25, 234, 253,\n",
       "       233,  35,   0,   0,   0,   0,   0,   0,   0,   0,   0,   0,   0,\n",
       "         0,   0,   0,   0,   0,   0,   0,   0,   0,   0,   0,   0, 198,\n",
       "       253, 253, 141,   0,   0,   0,   0,   0,   0,   0,   0,   0,   0,\n",
       "         0,   0,   0,   0,   0,   0,   0,   0,   0,   0,   0,   0,   0,\n",
       "        78, 248, 253, 189,  12,   0,   0,   0,   0,   0,   0,   0,   0,\n",
       "         0,   0,   0,   0,   0,   0,   0,   0,   0,   0,   0,   0,   0,\n",
       "         0,  19, 200, 253, 253, 141,   0,   0,   0,   0,   0,   0,   0,\n",
       "         0,   0,   0,   0,   0,   0,   0,   0,   0,   0,   0,   0,   0,\n",
       "         0,   0,   0, 134, 253, 253, 173,  12,   0,   0,   0,   0,   0,\n",
       "         0,   0,   0,   0,   0,   0,   0,   0,   0,   0,   0,   0,   0,\n",
       "         0,   0,   0,   0,   0, 248, 253, 253,  25,   0,   0,   0,   0,\n",
       "         0,   0,   0,   0,   0,   0,   0,   0,   0,   0,   0,   0,   0,\n",
       "         0,   0,   0,   0,   0,   0,   0, 248, 253, 253,  43,  20,  20,\n",
       "        20,  20,   5,   0,   5,  20,  20,  37, 150, 150, 150, 147,  10,\n",
       "         0,   0,   0,   0,   0,   0,   0,   0,   0, 248, 253, 253, 253,\n",
       "       253, 253, 253, 253, 168, 143, 166, 253, 253, 253, 253, 253, 253,\n",
       "       253, 123,   0,   0,   0,   0,   0,   0,   0,   0,   0, 174, 253,\n",
       "       253, 253, 253, 253, 253, 253, 253, 253, 253, 253, 249, 247, 247,\n",
       "       169, 117, 117,  57,   0,   0,   0,   0,   0,   0,   0,   0,   0,\n",
       "         0, 118, 123, 123, 123, 166, 253, 253, 253, 155, 123, 123,  41,\n",
       "         0,   0,   0,   0,   0,   0,   0,   0,   0,   0,   0,   0,   0,\n",
       "         0,   0,   0,   0,   0,   0,   0,   0,   0,   0,   0,   0,   0,\n",
       "         0,   0,   0,   0,   0,   0,   0,   0,   0,   0,   0,   0,   0,\n",
       "         0,   0,   0,   0,   0,   0,   0,   0,   0,   0,   0,   0,   0,\n",
       "         0,   0,   0,   0,   0,   0,   0,   0,   0,   0,   0,   0,   0,\n",
       "         0,   0,   0,   0,   0,   0,   0,   0,   0,   0,   0,   0,   0,\n",
       "         0,   0,   0,   0,   0,   0,   0,   0,   0,   0,   0,   0,   0,\n",
       "         0,   0,   0,   0,   0,   0,   0,   0,   0,   0,   0,   0,   0,\n",
       "         0,   0,   0,   0,   0,   0,   0,   0,   0,   0,   0,   0,   0,\n",
       "         0,   0,   0,   0,   0,   0,   0,   0,   0,   0,   0,   0,   0,\n",
       "         0,   0,   0,   0,   0,   0,   0,   0,   0,   0,   0,   0,   0,\n",
       "         0,   0,   0,   0], dtype=uint8)"
      ]
     },
     "execution_count": 10,
     "metadata": {},
     "output_type": "execute_result"
    }
   ],
   "source": [
    "x_test[1]"
   ]
  },
  {
   "cell_type": "code",
   "execution_count": null,
   "metadata": {},
   "outputs": [],
   "source": [
    "def create_train_som(x_train):\n",
    "    som = MiniSom(25, 25, 9, sigma=0.3, learning_rate=0.5) # initialization of 6x6 SOM\n",
    "    som.random_weights_init(x_train)\n",
    "    print(\"Training...\")\n",
    "    som.train_random(x_train,100, verbose=True) # training with 100 iterations\n",
    "    print(\"...ready!\")\n",
    "    return som\n"
   ]
  }
 ],
 "metadata": {
  "kernelspec": {
   "display_name": "Python 3",
   "language": "python",
   "name": "python3"
  },
  "language_info": {
   "codemirror_mode": {
    "name": "ipython",
    "version": 3
   },
   "file_extension": ".py",
   "mimetype": "text/x-python",
   "name": "python",
   "nbconvert_exporter": "python",
   "pygments_lexer": "ipython3",
   "version": "3.7.3"
  }
 },
 "nbformat": 4,
 "nbformat_minor": 4
}
